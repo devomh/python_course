{
 "cells": [
  {
   "cell_type": "markdown",
   "metadata": {
    "colab_type": "text",
    "id": "nxAw5hPAXDcm"
   },
   "source": [
    "# Estructuras iterativas (ciclos)\n",
    "\n",
    "## Instrucción `for`\n",
    "\n",
    "- Sintaxis:  \n",
    "  ```python\n",
    "  for < variable > in < iterable >:\n",
    "    < bloque de una o más instrucciones con indentado >\n",
    "  ```\n",
    "- Semántica:  \n",
    "  - Para cada valor devuelto por `iterable` cuyo valor se asigna a `variable` ejecutar el `bloque de una o más instrucciones`.\n",
    "  - Un `iterable` es un tipo de dato que pueda devolver sus elementos uno por uno. Tal como una lista de números o una lista de cadenas.\n",
    "\n",
    "### Ejemplo:\n",
    "\n",
    "Escriba un programa que imprima los primeros $n$ números naturales."
   ]
  },
  {
   "cell_type": "code",
   "execution_count": null,
   "metadata": {
    "colab": {
     "base_uri": "https://localhost:8080/",
     "height": 124
    },
    "colab_type": "code",
    "executionInfo": {
     "elapsed": 3897,
     "status": "ok",
     "timestamp": 1599452869224,
     "user": {
      "displayName": "Ollantay Medina",
      "photoUrl": "",
      "userId": "04356521390901315501"
     },
     "user_tz": 240
    },
    "id": "lwcfsBLjW_K7",
    "outputId": "06fcf6c1-3ecd-4da0-c86f-57c28a3b6713"
   },
   "outputs": [
    {
     "name": "stdout",
     "output_type": "stream",
     "text": [
      "Ingrese el número n: 5\n",
      "1\n",
      "2\n",
      "3\n",
      "4\n",
      "5\n"
     ]
    }
   ],
   "source": [
    "n = int( input('Ingrese el número n: ') )\n",
    "\n",
    "for i in range(n):\n",
    "  print(i+1)"
   ]
  },
  {
   "cell_type": "markdown",
   "metadata": {
    "colab_type": "text",
    "id": "HVm4ZpYvw1gl"
   },
   "source": [
    "La instrucción `range()` devuelve el equivalente a una lista de números bajos las siguientes consideraciones:\n",
    "- `range(n)`: Devuelve los números $0,1,2,\\dots,n-1$\n",
    "- `range(start,stop)`: Devuelve los números $start, start+1, start+2,\\dots,stop-1$\n",
    "- `range(start,stop,step)`: Devuelve los números $start,start+step,start+2\\cdot step,\\dots,start+((stop-start)//step)\\cdot step$"
   ]
  },
  {
   "cell_type": "markdown",
   "metadata": {
    "colab_type": "text",
    "id": "0eDxY80W0imD"
   },
   "source": [
    "# Comparación entre instrucciones `while` y `for`\n",
    "\n",
    "Encontrar el resultado de: $1+2+3+\\cdots+10$"
   ]
  },
  {
   "cell_type": "code",
   "execution_count": null,
   "metadata": {
    "colab": {},
    "colab_type": "code",
    "id": "kNVD893O1oUp"
   },
   "outputs": [],
   "source": [
    "suma = 0\n",
    "i = 1\n",
    "\n",
    "while i<=10:\n",
    "  suma += i\n",
    "  i += 1\n",
    "\n",
    "print(suma)"
   ]
  },
  {
   "cell_type": "code",
   "execution_count": null,
   "metadata": {
    "colab": {},
    "colab_type": "code",
    "id": "8WHccoMN12NG"
   },
   "outputs": [],
   "source": [
    "suma = 0\n",
    "\n",
    "for i in range(1,11):\n",
    "  suma += i\n",
    "\n",
    "print(suma)"
   ]
  },
  {
   "cell_type": "markdown",
   "metadata": {
    "colab_type": "text",
    "id": "9fCEUxgc5TGk"
   },
   "source": [
    "# Ciclos anidados\n",
    "\n",
    "El siguiente programa muestra instrucciones `for` anidadas. El `for` interior se ejecuta 5 veces por cada iteración del `for` exterior, el cual se ejecuta 4 veces. Como resultado la instrucción `print` se ejecuta en total 20 veces."
   ]
  },
  {
   "cell_type": "code",
   "execution_count": null,
   "metadata": {
    "colab": {},
    "colab_type": "code",
    "id": "ALM_PRRurd4U"
   },
   "outputs": [],
   "source": [
    "for a in range(4):\n",
    "  for b in range(5):\n",
    "    print(a,b)"
   ]
  },
  {
   "cell_type": "markdown",
   "metadata": {
    "colab_type": "text",
    "id": "dBgwd8sQ5Whp"
   },
   "source": [
    "# Alteración de la ejecución de un ciclo\n",
    "\n",
    "## `continue`\n",
    "\n",
    "Para el ciclo que lo contenga `continue` omite la ejecución del resto de instrucciones de la iteración actual, pasando a la ejecución de la siguiente.\n",
    "\n",
    "## `break`\n",
    "\n",
    "Para el ciclo que lo contenga `break` termina inmediatamente la ejecución del ciclo, ignorando el resto del bloque de instrucciones.\n",
    "\n",
    "### Ejemplos\n",
    "\n",
    "1. Modificar el programa de ciclos anidados para que no imprima los valores de `b` que sean impares.\n",
    "1. Modificar el programa de ciclos anidados para que la ejecución se detenga si $a+b \\ge 6$\n"
   ]
  },
  {
   "cell_type": "code",
   "execution_count": null,
   "metadata": {
    "colab": {},
    "colab_type": "code",
    "id": "CNGEIHxXvuiE"
   },
   "outputs": [],
   "source": [
    "for a in range(4):\n",
    "  for b in range(5):\n",
    "    if b%2==1:\n",
    "      continue\n",
    "    print(a,b)"
   ]
  },
  {
   "cell_type": "code",
   "execution_count": null,
   "metadata": {
    "colab": {},
    "colab_type": "code",
    "id": "0InqfN8KvuNp"
   },
   "outputs": [],
   "source": [
    "for a in range(4):\n",
    "  for b in range(5):\n",
    "    if a+b>=6:\n",
    "      break\n",
    "    print(a,b)"
   ]
  },
  {
   "cell_type": "markdown",
   "metadata": {
    "colab_type": "text",
    "id": "YnalZPXs5emk"
   },
   "source": [
    "# Ejercicios\n",
    "\n",
    "1. Escriba un programa que encuentre la suma de números ingresados por el usuario (no se sabe de antemano cuantos números ingresará el usuario). El programa se detendrá cuando el usuario presione `Enter` sin haber escrito ningún número. Al terminar el programa se mostrará el total de la suma.\n",
    "1. Escriba un programa que sume $n$ números. Tanto $n$ como los números serán ingresados por el usuario. Al terminar el programa se mostrará el total de la suma.\n",
    "1. Escriba un programa que imprima la tabla de multiplicar de un número ingresado por el usuario. Ejemplo:\n",
    "```\n",
    "Tabla del: 4\n",
    "4 x 1 = 4\n",
    "4 x 2 = 8\n",
    "...\n",
    "4 x 11 = 44\n",
    "4 x 12 = 48 \n",
    "```\n",
    "1. Escriba un programa que a partir de 2 números enteros $m$ y $n$ con $m\\le n$, ingresados por el usuario, encuentre el valor de:\n",
    "$$\\sum_{i=m}^{n} i $$\n"
   ]
  },
  {
   "cell_type": "markdown",
   "metadata": {
    "colab_type": "text",
    "id": "04e2_0lDniWq"
   },
   "source": [
    "# Referencias\n",
    "\n",
    "Parte del contenido de este documento está basado en:\n",
    "\n",
    "- Andrés Marzal, Isabel Gracia, Pedro García. (2014).\n",
    "Introducción a la programación con Python 3, Primera\n",
    "Edición. Publicacions de la Universitat Jaume I. Servei de Comunicació i Publicacions.\n",
    "- Sotero Esteva, J. O. (2020). Introducción a las Computadoras. Manuscrito sin publicar. Universidad de Puerto Rico en Humacao, Puerto Rico."
   ]
  }
 ],
 "metadata": {
  "colab": {
   "authorship_tag": "ABX9TyN9wza7N9th/PywH4DDXj0A",
   "collapsed_sections": [],
   "name": "09_Ciclos.ipynb",
   "provenance": []
  },
  "kernelspec": {
   "display_name": "Python 3",
   "name": "python3"
  }
 },
 "nbformat": 4,
 "nbformat_minor": 0
}