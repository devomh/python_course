{
 "cells": [
  {
   "cell_type": "markdown",
   "metadata": {
    "id": "YRrHmRjzkIZK"
   },
   "source": [
    "# Diccionarios\n",
    "\n",
    "- Un diccionario es una estructura de datos que asocia claves con valores.\n",
    "- Un diccionariolista se crea encerrando los pares `clave:valor` (separados por comas) entre llaves.\n",
    "- Los valores de un diccionario se acceden usando claves.\n",
    "\n",
    "| Ejemplo | Clave | Valor |\n",
    "|:---|:---|:---|\n",
    "|Diccionario en español | Palabra | Significado |\n",
    "| Guía telefónica | Nombre | Número telefónico |\n",
    "| Agenda | Fecha | Tarea |"
   ]
  },
  {
   "cell_type": "code",
   "execution_count": null,
   "metadata": {
    "id": "mbDuMycHhqcM"
   },
   "outputs": [],
   "source": [
    "d = {}  # Diccionario vacío\n",
    "\n",
    "guia = {'Tania':'(787)418-1212',\n",
    "        'Mario':'(787)419-2121',\n",
    "        'Lana':'(787)420-5000'}\n",
    "\n",
    "print(guia)\n",
    "\n",
    "print(guia['Tania'])              # Acceder valor en base a clave\n",
    "\n",
    "guia['Mario'] = '(787)419-2000'   # Modificar valor en base a clave\n",
    "print(guia['Mario'])\n",
    "\n",
    "guia['Jim'] = '(787)420-1000'     # Crear un nuevo par clave:valor\n",
    "\n",
    "print(guia)"
   ]
  },
  {
   "cell_type": "markdown",
   "metadata": {
    "id": "9rtKNkpcr_AJ"
   },
   "source": [
    "**Nota**:\n",
    "- La instrucción `diccionario[clave]=valor`:\n",
    "  - Modifica el valor asociado a clave, si la clave ya está almacenada.\n",
    "  - Crea un nuevo par `clave:valor` en el diccionario, si la clave no está almacenada.\n"
   ]
  },
  {
   "cell_type": "markdown",
   "metadata": {
    "id": "STxLVzmkrnt_"
   },
   "source": [
    "# Funciones y métodos de diccionarios\n",
    "\n",
    "- Cantidad de entradas en el diccionario: `len(dict)`\n",
    "- Devolver las claves almacenadas en el diccionario: `dict.keys()`\n",
    "- Devolver los valores almacenados en el diccionario: `dict.values()`\n",
    "- Devolver las entradas del diccionario: `dict.items()`\n",
    "- Devolver un valor preestablecido en caso la clave no esté almacenada en el diccionario: `dict.get(key,value)`."
   ]
  },
  {
   "cell_type": "code",
   "execution_count": null,
   "metadata": {
    "id": "bs7N9nxMuw19"
   },
   "outputs": [],
   "source": [
    "print( guia )\n",
    "\n",
    "print( len(guia) )\n",
    "\n",
    "print( guia.keys() )\n",
    "\n",
    "print( guia.values() )\n",
    "\n",
    "print( guia.get('Leo','(000)000-0000') )"
   ]
  },
  {
   "cell_type": "markdown",
   "metadata": {
    "id": "Rsz4vCjm0WdR"
   },
   "source": [
    "**Nota**:\n",
    "- `dict[key]` produce un error en caso la clave no esté asociada previamente en el diccionario con algún valor."
   ]
  },
  {
   "cell_type": "code",
   "execution_count": null,
   "metadata": {
    "id": "nOBZTsxG0azu"
   },
   "outputs": [],
   "source": [
    "print( guia['Leo'] )"
   ]
  },
  {
   "cell_type": "markdown",
   "metadata": {
    "id": "8dYcYJy0xW2i"
   },
   "source": [
    "# Operadores\n",
    "\n",
    "- Pertenencia: `<key> in <dict>`"
   ]
  },
  {
   "cell_type": "code",
   "execution_count": null,
   "metadata": {
    "id": "kod0w6AyxzuG"
   },
   "outputs": [],
   "source": [
    "print( 'Melody' in guia)\n",
    "print( 'Jim' in guia)"
   ]
  },
  {
   "cell_type": "markdown",
   "metadata": {
    "id": "ibo8IX7-p0ck"
   },
   "source": [
    "# Recorrido de diccionarios\n",
    "\n",
    "- El diccionario se puede usar como un iterable en una instrucción `for`.\n",
    "- El iterable devolverá sin ningún orden preestablecido en particular, las claves almacenadas.\n",
    "- Las claves a su vez se pueden usar para acceder a los valores asociados almacenados."
   ]
  },
  {
   "cell_type": "code",
   "execution_count": null,
   "metadata": {
    "id": "yiXYhYMrqnNu"
   },
   "outputs": [],
   "source": [
    "for k in guia:\n",
    "  print('Clave: {0:10}, Valor: {1}'.format(k, guia[k]))"
   ]
  },
  {
   "cell_type": "markdown",
   "metadata": {
    "id": "k4e19aS82RfJ"
   },
   "source": [
    "- Se pueden usar también los métodos `dict.keys()`, `dict.values()`, `dict.items()` como iterables en una instrucción `for`."
   ]
  },
  {
   "cell_type": "code",
   "execution_count": null,
   "metadata": {
    "id": "cc_f7Vdl22O8"
   },
   "outputs": [],
   "source": [
    "for k in guia.keys():\n",
    "  print('Clave: {0:^10}, Valor: {1}'.format(k, guia[k]))"
   ]
  },
  {
   "cell_type": "code",
   "execution_count": null,
   "metadata": {
    "id": "Fcd8Sn5e3QIe"
   },
   "outputs": [],
   "source": [
    "for v in guia.values():\n",
    "  print('Valor: {}'.format(v))"
   ]
  },
  {
   "cell_type": "code",
   "execution_count": null,
   "metadata": {
    "id": "OTs3BnxN3Zyh"
   },
   "outputs": [],
   "source": [
    "for k, v in guia.items():\n",
    "  print('Clave: {0:>10}, Valor: {1}'.format(k, v))"
   ]
  },
  {
   "cell_type": "markdown",
   "metadata": {
    "id": "reV7X_IayTD6"
   },
   "source": [
    "# Ejercicios\n",
    "\n",
    "1. Cree un diccionario llamado `edades` que permita saber fácilmente las edades de las siguientes personas:\n",
    "  ```\n",
    "  Carlos, quien tiene 22 años.\n",
    "  Jorge, quien tiene 15 años.\n",
    "  Melinda, quien tiene 19 años.\n",
    "  Laura, quien tiene 9 años.\n",
    "  ```"
   ]
  },
  {
   "cell_type": "markdown",
   "metadata": {
    "id": "GyDEoUqV4L_4"
   },
   "source": [
    "2. Usando el diccionario `edades` imprima su contenido con el siguiente formato:\n",
    "  ```\n",
    "  Estudiante: Carlos    | Edad:  22 años\n",
    "  Estudiante: Jorge     | Edad:  15 años\n",
    "  Estudiante: Melinda   | Edad:  19 años\n",
    "  Estudiante: Laura     | Edad:   9 años\n",
    "  ```"
   ]
  },
  {
   "cell_type": "markdown",
   "metadata": {
    "id": "KourOHtO32ML"
   },
   "source": [
    "3. Escriba un programa que pida un nombre y devuelva la edad que tiene, o el mensaje `No registrado`, en caso el nombre no esté registrado. Reuse el diccionario `edades`.\n"
   ]
  },
  {
   "cell_type": "markdown",
   "metadata": {
    "id": "R6oDLJ1I32Bk"
   },
   "source": [
    "4. Cree un nuevo diccionario `edades2` con los datos proporcionados a continuación.\n",
    "  ```\n",
    "  Marla, quien tiene 20 años.\n",
    "  Pedro, quien tiene 18 años.\n",
    "  Fernando, quien tiene 22 años.\n",
    "  ```\n",
    "  Escriba un programa que agregue las edades del diccionario `edades2` en el diccionario `edades`.\n"
   ]
  },
  {
   "cell_type": "markdown",
   "metadata": {
    "id": "XNlUivJo8Bi2"
   },
   "source": [
    "5. Cree un diccionario con los nombres de los países de América y sus respectivas poblaciones. Luego, escriba un programa que solicite dos nombres de países y determine cuál de ellos tiene mayor población."
   ]
  },
  {
   "cell_type": "markdown",
   "metadata": {
    "id": "qB9E2qIw313i"
   },
   "source": [
    "6. Escriba un programa que dada una lista de números, haga un conteo de cuantas veces aparece cada número y devuelva los resultados en un diccionario."
   ]
  },
  {
   "cell_type": "markdown",
   "metadata": {
    "id": "dlGaGdZX31dA"
   },
   "source": [
    "7. Escriba un programa que dado un texto, haga un conteo de las palabras contenidas en el mismo. Asuma que todo el texto está en minúsculas y que no hay signos de puntuación."
   ]
  }
 ],
 "metadata": {
  "colab": {
   "provenance": []
  },
  "kernelspec": {
   "display_name": "Python 3",
   "name": "python3"
  }
 },
 "nbformat": 4,
 "nbformat_minor": 0
}