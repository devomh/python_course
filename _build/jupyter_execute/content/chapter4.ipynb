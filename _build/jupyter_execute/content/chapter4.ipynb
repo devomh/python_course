{
 "cells": [
  {
   "cell_type": "markdown",
   "metadata": {
    "id": "omTOaosHCYqT"
   },
   "source": [
    "# Listas\n",
    "\n",
    "- Una lista es un objeto que contiene una colección de objetos que pueden tener distintos tipos de datos (heterogénea).\n",
    "- Representa una sucesión de datos.\n",
    "- Es similar a una cadena, excepto que la cadena contiene solo caracteres.\n",
    "- Una lista se crea encerrando los elementos (separados por comas) entre corchetes.\n",
    "- Los elementos de una lista se acceden usando índices."
   ]
  },
  {
   "cell_type": "code",
   "execution_count": null,
   "metadata": {
    "id": "1xm-kHQSCIhh"
   },
   "outputs": [],
   "source": [
    "A = [2, 4, -1, 5, 7]  # Creación de lista\n",
    "\n",
    "print(A)              # Imprimir toda la lista   \n",
    "print(A[1])           # Imprimir el segundo elemento\n",
    "\n",
    "A[0]=10               # Cambiar el valor del primer elemento\n",
    "print(A[0])           # Imprimir el primer elemento"
   ]
  },
  {
   "cell_type": "code",
   "execution_count": null,
   "metadata": {
    "id": "u4YIShA8HA8n"
   },
   "outputs": [],
   "source": [
    "B = [5, 'Peter', [2,-3], 8.3]\n",
    "\n",
    "print( B[1] )\n",
    "print( type(B[1]) )\n",
    "\n",
    "print( B[2] )\n",
    "print( type(B[2]) )"
   ]
  },
  {
   "cell_type": "markdown",
   "metadata": {
    "id": "QtCbQdIYIH1q"
   },
   "source": [
    "# Operadores\n",
    "\n",
    "- Concatenación: `<list> + <list>`. Une dos listas para formar una tercera.\n",
    "- Repetición: `<list> * <int>`. Repite la lista una cantidad de veces.\n",
    "- Pertenencia: `<element> in <list>`. Determina si un valor pertenece a una lista"
   ]
  },
  {
   "cell_type": "code",
   "execution_count": null,
   "metadata": {
    "id": "m84vUAUyJe8J"
   },
   "outputs": [],
   "source": [
    "numeros = [1,2,3] + [5,7,9]\n",
    "print(numeros)\n",
    "\n",
    "mas_numeros = numeros * 3\n",
    "print(mas_numeros)\n",
    "\n",
    "print(7 in numeros)\n",
    "print(10 in mas_numeros)"
   ]
  },
  {
   "cell_type": "markdown",
   "metadata": {
    "id": "9AP-4eKL9dh-"
   },
   "source": [
    "# Operadores de comparación\n",
    "\n",
    "- Igualdad: `==`\n",
    "- No igualdad: `!=`\n",
    "- Orden lexicográfico (como en un diccionario): `<, <=, >, >=`"
   ]
  },
  {
   "cell_type": "code",
   "execution_count": null,
   "metadata": {
    "id": "wVqmEuQeKYgo"
   },
   "outputs": [],
   "source": [
    "a = [1,2,3]\n",
    "b = [1,2,3,4]\n",
    "c = [1,0,3]\n",
    "\n",
    "if a == b:\n",
    "  print(a, 'es igual a', b)\n",
    "\n",
    "if a != c:\n",
    "  print(a, 'no es igual a', c)\n",
    "\n",
    "if a < b:\n",
    "  print(a, 'va primero que', c)\n",
    "\n",
    "if a > c:\n",
    "  print(c, 'va primero que', a)"
   ]
  },
  {
   "cell_type": "markdown",
   "metadata": {
    "id": "pV9hzZt6E3ZH"
   },
   "source": [
    "# Funciones y métodos de listas\n",
    "\n",
    "- Longitud de lista (cantidad de elementos): `len(list)`\n",
    "- Conteo de ocurrencias: `list.count(element)`  \n",
    "  Significado: cuantas veces aparece `element` en `list`.\n",
    "- Buscar posición: `list.index(element [, start [, end ]])`  \n",
    "  Significado: buscar posición donde `element` aparece en `list`\n",
    "- Agregar elemento: `list.append(element)`  \n",
    "  Significado: agrega `element` al final de `list`\n",
    "- Eliminar elemento: `del list[index]`  \n",
    "  Significado: eliminar de `list` elemento en `index`"
   ]
  },
  {
   "cell_type": "code",
   "execution_count": null,
   "metadata": {
    "id": "zF9IW7GnQ_EO"
   },
   "outputs": [],
   "source": [
    "notas = [90, 80, 75, 100, 68, 82, 93, 90, 75, 90]\n",
    "\n",
    "print( len(notas) )\n",
    "print( notas.count(90))\n",
    "print( notas.index(75))\n",
    "\n",
    "notas.append(65)\n",
    "del notas[2]\n",
    "\n",
    "print( notas )"
   ]
  },
  {
   "cell_type": "markdown",
   "metadata": {
    "id": "BRaCac9Oc5oR"
   },
   "source": [
    "# Procesado de listas\n",
    "\n",
    "- Una lista es un iterable que puede ser usado en una instrucción `for`\n",
    "\n",
    "## Ejemplo\n",
    "\n",
    "Encontrar la suma de la variable `edades`"
   ]
  },
  {
   "cell_type": "code",
   "execution_count": null,
   "metadata": {
    "id": "jd3q6vTmc6Ey"
   },
   "outputs": [],
   "source": [
    "edades = [45, 33, 55, 30, 25, 33, 25, 40]\n",
    "\n",
    "suma = 0\n",
    "\n",
    "for e in edades:\n",
    "  suma += e\n",
    "\n",
    "print('La suma de: {}\\nEs: {}'.format(edades,suma))"
   ]
  },
  {
   "cell_type": "markdown",
   "metadata": {
    "id": "402bw4NXVJOV"
   },
   "source": [
    "# De cadenas a listas\n",
    "- `str.split( [sep[, maxsplit] )`: devuelve una lista cuyos elementos son subcadenas de `str` después de haberlas separado considerando `sep` (si se omite considera espacios en blanco)."
   ]
  },
  {
   "cell_type": "code",
   "execution_count": null,
   "metadata": {
    "id": "5woDCfyNWIUT"
   },
   "outputs": [],
   "source": [
    "frase = 'El día está nublado. No sé si lloverá. Está lloviznando. Debo buscar refugio.'\n",
    "\n",
    "print( frase.split() )\n",
    "print( frase.split('.') )\n",
    "print( frase.split(' ',5) )"
   ]
  },
  {
   "cell_type": "markdown",
   "metadata": {
    "id": "TlOsQS12XmUB"
   },
   "source": [
    "# De listas a cadenas\n",
    "\n",
    "- `str.join(list)`: une los elementos de una **lista de cadenas**, considerando el separador `str`, para producir una nueva cadena."
   ]
  },
  {
   "cell_type": "code",
   "execution_count": null,
   "metadata": {
    "id": "hz1AthC4Yphb"
   },
   "outputs": [],
   "source": [
    "palabras = frase.split()\n",
    "\n",
    "print( '->'.join(palabras) )\n",
    "print( ' - '.join(palabras) )\n",
    "print( ''.join(palabras) )"
   ]
  },
  {
   "cell_type": "markdown",
   "metadata": {
    "id": "wbDwUA67b2gc"
   },
   "source": [
    "# Creación de listas por comprensión\n",
    "\n",
    "- Sirve para construir listas de una forma compacta\n",
    "- Sintaxis:  \n",
    "  `[<expr> for <variable> in <iterable>]`  \n",
    "  Donde `<expr>` es una expresión (fórmula) que produce un resultado.\n",
    "\n",
    "## Ejemplo:\n",
    "\n",
    "Crear una lista con los cuadrados de los $n$ primeros naturales. El programa pedirá como entrada el valor de $n$."
   ]
  },
  {
   "cell_type": "code",
   "execution_count": null,
   "metadata": {
    "id": "Ge-a867rgobV"
   },
   "outputs": [],
   "source": [
    "n = int( input('Ingrese n:') )\n",
    "\n",
    "cuadrados = [(i+1)**2 for i in range(n)]\n",
    "\n",
    "print(cuadrados)"
   ]
  },
  {
   "cell_type": "markdown",
   "metadata": {
    "id": "72rxo1xfb26b"
   },
   "source": [
    "# Creación de listas por comprensión con `if`\n",
    "\n",
    "- Sintaxis:  \n",
    "  `[<expr> for <variable> in <iterable> if <condicion>]`  \n",
    "  Donde `<expr>` es una expresión (fórmula) que produce un resultado.\n",
    "\n",
    "## Ejemplo:\n",
    "\n",
    "A partir de una lista de edades, crear una nueva lista que solo contenga edades entre los 35 y 45 años de edad."
   ]
  },
  {
   "cell_type": "code",
   "execution_count": null,
   "metadata": {
    "id": "cC3tjEddiRuX"
   },
   "outputs": [],
   "source": [
    "edades = [45, 33, 55, 30, 25, 33, 25, 40]\n",
    "\n",
    "intervalo = [e for e in edades if e>=35 and e<=45]\n",
    "\n",
    "print(intervalo)"
   ]
  },
  {
   "cell_type": "markdown",
   "metadata": {
    "id": "cboPjuLRb3KE"
   },
   "source": [
    "# Ejercicios\n",
    "\n",
    "Determine el resultado de las siguientes listas por comprensión:\n",
    "\n",
    "1. `mayoria = [e-21 for e in edades]`\n",
    "1. `seleccionados = [e for e in edades if e%2==0 ]`\n",
    "1. ```python\n",
    "cadena = 'A, B; C: D.'\n",
    "punt = [ '.', ',', ':', ';' ]\n",
    "resultado = [c for c in cadena if c not in punt]\n",
    "```\n",
    "1. ```python\n",
    "cadena = 'aaa bbbb cc d eeeeee'\n",
    "longitudes = [len(p) for p in cadena.split()]\n",
    "```\n",
    "\n",
    "Construya las siguientes listas por comprensión:\n",
    "\n",
    "4. Enteros divisibles por 11 entre 0 y 500.\n",
    "5. Los enteros entre 1 y 100 que tienen al menos un dígito 3\n",
    "6. Edades actuales en base a una lista de años de nacimiento.  \n",
    "  `nacimientos = [1985, 1992, 2000, 1995, 1990, 2005, 1998]`"
   ]
  },
  {
   "cell_type": "markdown",
   "metadata": {
    "id": "DxshHB-oo0V4"
   },
   "source": [
    "# Lectura de listas\n",
    "\n",
    "- Para leer una lista ingresada por el usuario desde el teclado, considerar las siguientes estrategias:\n",
    "  1. Leer uno por uno los elementos e irlos agregando ausando el método `list.append()`\n",
    "  1. Leer toda la lista como una sola cadena, donde los elementos estarán separados por algún caracter especial (espacios o comas). Luego aplicar el método `str.split()` y usar el resultado en una lista por comprensión.\n",
    "\n",
    "Nota: Una instrucción como `resultado = list(input('Ingrese lista:'))` solo creará una lista de caracteres."
   ]
  },
  {
   "cell_type": "code",
   "execution_count": null,
   "metadata": {
    "id": "F0B08aczp6xd"
   },
   "outputs": [],
   "source": [
    "n = int( input('Cantidad de elementos: ') )\n",
    "\n",
    "resultado = []  # Lista vacía (sin elementos)\n",
    "\n",
    "for i in range(n):\n",
    "  elemento = int( input('Valor: ') )\n",
    "  resultado.append(elemento)\n",
    "\n",
    "print(resultado)"
   ]
  },
  {
   "cell_type": "code",
   "execution_count": null,
   "metadata": {
    "id": "YWb48sc9q15p"
   },
   "outputs": [],
   "source": [
    "cadena = input('Ingrese las notas separadas por comas: ')\n",
    "\n",
    "print(cadena.split(','))\n",
    "\n",
    "resultado = [int(e) for e in cadena.split(',')]\n",
    "\n",
    "print(resultado)"
   ]
  },
  {
   "cell_type": "markdown",
   "metadata": {
    "id": "dVyYaGI9ZISa"
   },
   "source": [
    "# Referencias\n",
    "\n",
    "Parte del contenido de este documento está basado en:\n",
    "\n",
    "- Andrés Marzal, Isabel Gracia, Pedro García. (2014).\n",
    "Introducción a la programación con Python 3, Primera\n",
    "Edición. Publicacions de la Universitat Jaume I. Servei de Comunicació i Publicacions.\n",
    "- Sotero Esteva, J. O. (2020). Introducción a las Computadoras. Manuscrito sin publicar. Universidad de Puerto Rico en Humacao, Puerto Rico."
   ]
  }
 ],
 "metadata": {
  "colab": {
   "authorship_tag": "ABX9TyOW+CjijFP/Xch8qtOSpz0J",
   "collapsed_sections": [],
   "name": "11_Listas.ipynb",
   "provenance": []
  },
  "kernelspec": {
   "display_name": "Python 3",
   "name": "python3"
  }
 },
 "nbformat": 4,
 "nbformat_minor": 0
}