{
 "cells": [
  {
   "cell_type": "markdown",
   "metadata": {
    "id": "2NRbjkPM9eFU"
   },
   "source": [
    "# Cadenas de caracteres\n",
    "\n",
    "- Corresponden al tipo de dato `string` de Python.\n",
    "- Se escriben encerrando texto entre comillas simples o comillas dobles.\n",
    "- Para usar las comillas como parte de la cadena puede:\n",
    "  - Usar la otra opción de comillas para declarar la cadena. Es decir, si uno quiere usar comilla simple en la cadena, declarar la cadena usando comillas dobles, o viceversa.  \n",
    "  - Preceda la comilla con diagonal invertida."
   ]
  },
  {
   "cell_type": "code",
   "execution_count": null,
   "metadata": {
    "id": "k0DJyvM3_3mh"
   },
   "outputs": [],
   "source": [
    "s = \"Usando 'comilla simple' en la cadena\"\n",
    "print(s)\n",
    "r = 'Usando \\'comilla simple\\' en la cadena'\n",
    "print(r)"
   ]
  },
  {
   "cell_type": "markdown",
   "metadata": {
    "id": "ELuSt5a19d31"
   },
   "source": [
    "# Operadores que trabajan con cadenas\n",
    "\n",
    "- Concatenación: `<str> + <str>`. Une dos cadenas para formar una tercera.\n",
    "- Repetición: `<str> * <int>`. Repite una cadena una cantidad de veces.\n"
   ]
  },
  {
   "cell_type": "code",
   "execution_count": null,
   "metadata": {
    "id": "BaoAJ3yNBHPz"
   },
   "outputs": [],
   "source": [
    "s = 'Hola' + 'mundo'\n",
    "print(s)\n",
    "r = 'Hola' * 4\n",
    "print(r)"
   ]
  },
  {
   "cell_type": "markdown",
   "metadata": {
    "id": "gu6zlq1WVMI1"
   },
   "source": [
    "**Nota**:\n",
    "- En Python las cadenas son inmutables, es\n",
    "decir, una vez almacenadas no se pueden\n",
    "cambiar.\n",
    "- Lo operadores `+` y `*` dan como resultado una cadena nueva."
   ]
  },
  {
   "cell_type": "markdown",
   "metadata": {
    "id": "9AP-4eKL9dh-"
   },
   "source": [
    "# Operadores de comparación\n",
    "\n",
    "- Igualdad: `==`\n",
    "- No igualdad: `!=`\n",
    "- Orden lexicográfico (como en un diccionario): `<, <=, >, >=`"
   ]
  },
  {
   "cell_type": "code",
   "execution_count": null,
   "metadata": {
    "id": "bMYnUogo3q2V"
   },
   "outputs": [],
   "source": [
    "a = 'alfa'\n",
    "b = 'Alfa'\n",
    "c = 'alfas'\n",
    "\n",
    "if a == b:\n",
    "  print(a, 'es igual a', b)\n",
    "\n",
    "if a != c:\n",
    "  print(a, 'no es igual a', c)\n",
    "\n",
    "if a < c:\n",
    "  print(a, 'va primero que', c)\n",
    "\n",
    "if a > c:\n",
    "  print(c, 'va primero que', a)"
   ]
  },
  {
   "cell_type": "markdown",
   "metadata": {
    "id": "TztF6H-MFx2V"
   },
   "source": [
    "# Indización y subcadenas\n",
    "\n",
    "- Se pueden hacer referencia a caracteres individuales de una cadena usando índices.\n",
    "- La notación para manejar índices requiere el uso de corchetes.  \n",
    "  `str[indice]`\n",
    "- Los índices empiezan desde cero."
   ]
  },
  {
   "cell_type": "code",
   "execution_count": null,
   "metadata": {
    "id": "M8G32gcgQr6z"
   },
   "outputs": [],
   "source": [
    "pais = 'Puerto Rico'\n",
    "print(pais[0])\n",
    "print(pais[1])\n",
    "print(pais[2])\n",
    "print(pais[6])\n",
    "print(pais[7])"
   ]
  },
  {
   "cell_type": "markdown",
   "metadata": {
    "id": "73VC6x-rRb_U"
   },
   "source": [
    "- Se pueden usar índices negativos. Siendo:\n",
    "  - `str[-1]` el último caracter de la cadena.\n",
    "  - `str[-2]` el penúltimo caracter de la cadena.  \n",
    "  ...\n"
   ]
  },
  {
   "cell_type": "code",
   "execution_count": null,
   "metadata": {
    "id": "gPcNJjM2R1sv"
   },
   "outputs": [],
   "source": [
    "print(pais[-1])\n",
    "print(pais[-2])"
   ]
  },
  {
   "cell_type": "markdown",
   "metadata": {
    "id": "Y2KVXRaLR8IG"
   },
   "source": [
    "- La notación de índices soporta rangos. Un rango devuelve una subcadena o porción de la cadena original (*slicing*).  \n",
    "  `str[n:m]` devuelve la subcadena que va desde el índice `n` hasta `m-1`.\n",
    "- Omitir `n` o `m` en la notación se entiende como *desde el principio* o *hasta el final* respectivamente.\n"
   ]
  },
  {
   "cell_type": "code",
   "execution_count": null,
   "metadata": {
    "id": "8Qe_EckWS3cb"
   },
   "outputs": [],
   "source": [
    "print(pais[2:9])\n",
    "print(pais[:7])\n",
    "print(pais[7:])\n",
    "print(pais[2:-2])\n",
    "print(pais[:])"
   ]
  },
  {
   "cell_type": "markdown",
   "metadata": {
    "id": "2-KgxQ2wUYw8"
   },
   "source": [
    "- En la notación por rangos, se puede establacer cuantos caracteres se avanzará (de forma predeterminada se entiende de uno en uno).  \n",
    "  `str[n:m:p]` devuelve la subcadena que va desde el índice `n` hasta `m-1` avanzando de `p` en `p` caracteres."
   ]
  },
  {
   "cell_type": "code",
   "execution_count": null,
   "metadata": {
    "id": "1D_c8-UWTu2R"
   },
   "outputs": [],
   "source": [
    "print(pais[1:10:2])\n",
    "print(pais[:10:2])\n",
    "print(pais[::-1])"
   ]
  },
  {
   "cell_type": "markdown",
   "metadata": {
    "id": "pV9hzZt6E3ZH"
   },
   "source": [
    "# Funciones y métodos de cadenas\n",
    "\n",
    "- Longitud de cadena (cantidad de caracteres): `len(str)`\n",
    "- Conteo de ocurrencias: `str.count(sub [, start [, end ]])`  \n",
    "  Significado: cuantas veces aparece `sub` en `str`.\n"
   ]
  },
  {
   "cell_type": "code",
   "execution_count": null,
   "metadata": {
    "id": "A4nHyKq5E30E"
   },
   "outputs": [],
   "source": [
    "frase = 'mi mama me mima'\n",
    "print( len(frase) )\n",
    "print( frase.count('ma') )"
   ]
  },
  {
   "cell_type": "markdown",
   "metadata": {
    "id": "-S6KO-XFWkiu"
   },
   "source": [
    "- Buscar posición:\n",
    "  - `str.find(sub [, start [, end ]])`\n",
    "  - `str.index(sub [, start [, end ]])`\n",
    "  - `str.rfind(sub [, start [, end ]])`\n",
    "  - `str.rindex(sub [, start [, end ]])`  \n",
    "  Significado:\n",
    "  - Buscar posición donde `sub` aparece en `str`\n",
    "  - Normalmente la búsqueda es de izquierda a derecha. Las instrucciones que tienen un `r` por delante lo hacen de derecha a izquierda.\n",
    "  - En caso `sub` no esté en `str`:\n",
    "    - `find` devuelve -1.\n",
    "    - `index` produce un error.\n",
    "\n",
    "  "
   ]
  },
  {
   "cell_type": "code",
   "execution_count": null,
   "metadata": {
    "id": "PmtnuMtIX0aW"
   },
   "outputs": [],
   "source": [
    "print( frase.find('ma') )\n",
    "print( frase.index('ma') )\n",
    "print( frase.rfind('ma') )\n",
    "print( frase.rindex('ma') )\n",
    "print( frase.find('mi',3,8) )\n",
    "print( frase.index('mi',3) )"
   ]
  },
  {
   "cell_type": "code",
   "execution_count": null,
   "metadata": {
    "id": "zFyEz1HaYtQl"
   },
   "outputs": [],
   "source": [
    "print( frase.find('mu') )\n",
    "print( frase.index('mu') )"
   ]
  },
  {
   "cell_type": "markdown",
   "metadata": {
    "id": "w9PZesB8Y_Gn"
   },
   "source": [
    "## Producir cadenas modificadas\n",
    "\n",
    "- Mayúsculas/minúsculas\n",
    "  - `str.title()`\n",
    "  - `str.lower()`\n",
    "  - `str.upper()`\n",
    "  - `str.swapcase()`"
   ]
  },
  {
   "cell_type": "code",
   "execution_count": null,
   "metadata": {
    "id": "e44E3fcHZteb"
   },
   "outputs": [],
   "source": [
    "texto = 'QuE MaL EsCrIbO!!'\n",
    "print( texto.title() )\n",
    "print( texto.lower() )\n",
    "print( texto.upper() )\n",
    "print( texto.swapcase() )"
   ]
  },
  {
   "cell_type": "markdown",
   "metadata": {
    "id": "Vnx1t83_aGuc"
   },
   "source": [
    "- Añaden carcateres:\n",
    "  - `str.center(width [, fillchar ])`\n",
    "  - `str.ljust(width [, fillchar ])`\n",
    "  - `str.rjust(width [, fillchar ])`"
   ]
  },
  {
   "cell_type": "code",
   "execution_count": null,
   "metadata": {
    "id": "pXxmT4HgaHLT"
   },
   "outputs": [],
   "source": [
    "print( texto.center(30, ' ') )\n",
    "print( texto.ljust(30, '=') )\n",
    "print( texto.rjust(30, '*') )"
   ]
  },
  {
   "cell_type": "markdown",
   "metadata": {
    "id": "3HcKrAmSaHgE"
   },
   "source": [
    "- Quitar caracteres del comienzo o final:\n",
    "  - `str.lstrip( [chars] )`\n",
    "  - `str.rstrip( [chars] )`\n",
    "  - `str.strip( [chars] )`"
   ]
  },
  {
   "cell_type": "code",
   "execution_count": null,
   "metadata": {
    "id": "554O54wXaH7D"
   },
   "outputs": [],
   "source": [
    "espacios = '      tengo   muchos   espacios     '\n",
    "print(espacios)\n",
    "print(espacios.lstrip())\n",
    "print(espacios.rstrip())\n",
    "print(espacios.strip())"
   ]
  },
  {
   "cell_type": "markdown",
   "metadata": {
    "id": "7Wko4mvocaKt"
   },
   "source": [
    "- Reemplazar subcadena\n",
    "  - `str.replace(old, new [, count])`"
   ]
  },
  {
   "cell_type": "code",
   "execution_count": null,
   "metadata": {
    "id": "0e94wFmHcZUp"
   },
   "outputs": [],
   "source": [
    "print(espacios.replace('tengo', 'poseo'))\n",
    "print(espacios.replace(' ', ''))\n",
    "print(espacios.replace(' ', '', 10))"
   ]
  },
  {
   "cell_type": "markdown",
   "metadata": {
    "id": "_Ey3fE84rsyY"
   },
   "source": [
    "# Secuencias de escape\n",
    "\n",
    "- Se usan dentro de cadenas para lograr diversos efectos.\n",
    "- Se invocan al colocar el caracter `\\` antes de un caracter de control que especifica la acción.\n",
    "\n",
    "| Secuencia | Resultado |\n",
    "|--:|:--|\n",
    "| \\b | Espacio atrás (BS) |\n",
    "| \\n | Salto de línea (LF) |\n",
    "| \\r | Retorno de carro (CR) |\n",
    "| \\t | Tabulador horizontal (TAB) |\n",
    "| \\\\\\\\ | Caracter barra invertida (\\) |\n",
    "| \\\\' | Comilla simple (') |\n",
    "| \\\\\" | Comilla doble (\") |\n"
   ]
  },
  {
   "cell_type": "code",
   "execution_count": null,
   "metadata": {
    "id": "IahFXCVmuZ11"
   },
   "outputs": [],
   "source": [
    "s = 'Prueba\\n\\tSecuencias\\nde\\t\\tescape\\b.'\n",
    "print(s)"
   ]
  },
  {
   "cell_type": "markdown",
   "metadata": {
    "id": "42ar2TeYvbj1"
   },
   "source": [
    "# Formateado de cadenas\n",
    "\n",
    "## Método `format()`\n",
    "\n",
    "- Una cadena de caracteres puede tener marcas de formato que el método `format()` usa para intercalar valores.\n",
    "- Marcas de formato:\n",
    "  - Especificar { [ campo [:formato] ] } dentro de una cadena.\n",
    "  - campo: un entero\n",
    "  - formato: especifica cómo se va a formatear la información.\n",
    "\n",
    "### Formato\n",
    "\n",
    "`[[relleno]alineamiento][signo][0][ancho][.precisión][código de tipo]`\n",
    "\n",
    "- relleno: caracter para rellenar al alinear\n",
    "- alineamiento: < izquierda, > derecha, ^ centralizar\n",
    "- signo: + para forzar que aparezca signo\n",
    "- 0: rellena con 0\n",
    "- ancho: cantidad de caracteres que ocupa\n",
    "- precisión: cantidad de decimales\n",
    "- código de tipo:\n",
    "  - enteros\n",
    "    - b: binatio\n",
    "    - d: base 10\n",
    "    - x: hexadecimal\n",
    "  - flotante\n",
    "    - e: notación exponencial\n",
    "    - f: notación punto fijo\n",
    "    - g: formato general  \n",
    "  "
   ]
  },
  {
   "cell_type": "code",
   "execution_count": null,
   "metadata": {
    "id": "5r2ZNibbwrMR"
   },
   "outputs": [],
   "source": [
    "molde1 = 'Mi nombre es {}, tengo {} años y mis ahorros son de {} dólares.'\n",
    "\n",
    "print(molde1.format('Jose',15,257.54))"
   ]
  },
  {
   "cell_type": "code",
   "execution_count": null,
   "metadata": {
    "id": "ygoGw8hd1DU2"
   },
   "outputs": [],
   "source": [
    "molde2 = 'Su nombre es {0} y tiene {1} años.\\nA sus {1} años, {0} ha logrado ahorrar {2:_^+20.4f} dólares.'\n",
    "\n",
    "print(molde2.format('Jose',15,257.54))"
   ]
  },
  {
   "cell_type": "code",
   "execution_count": null,
   "metadata": {
    "id": "1olIoFYv1DEG"
   },
   "outputs": [],
   "source": [
    "molde3 = 'Su nombre es {0} y tiene {1} años.\\nA sus {1} años, {0} ha logrado ahorrar {2:010.3f} dólares.'\n",
    "\n",
    "print(molde3.format('Jose',15,257.54))"
   ]
  },
  {
   "cell_type": "markdown",
   "metadata": {
    "id": "ZiYUpLMO395G"
   },
   "source": [
    "# Recorrido de cadenas\n",
    "\n",
    "- Una cadena se puede considerar como una lista de caracteres.\n",
    "- Una lista es un ejemplo de un iterable en Python. Por lo tanto, se puede usar en un ciclo `for`."
   ]
  },
  {
   "cell_type": "code",
   "execution_count": null,
   "metadata": {
    "id": "JpQo1bIR4iDH"
   },
   "outputs": [],
   "source": [
    "mensaje = 'Te tengo un mensaje.'\n",
    "for caracter in mensaje:\n",
    "  print(caracter)"
   ]
  },
  {
   "cell_type": "markdown",
   "metadata": {
    "id": "InPRsyDN49If"
   },
   "source": [
    "## Ejemplo\n",
    "\n",
    "Escriba un programa que pida una texto. Devuelva la cantidad de palabras que hay en el texto. Considere que cada palabra está separada por un espacio en blanco."
   ]
  },
  {
   "cell_type": "code",
   "execution_count": null,
   "metadata": {
    "id": "wakzU6yx5Xst"
   },
   "outputs": [],
   "source": [
    "texto = input( 'Ingrese texto: ')\n",
    "blancos = 0\n",
    "\n",
    "for c in texto:\n",
    "  if c == ' ':\n",
    "    blancos += 1\n",
    "\n",
    "print('El texto tiene {} palabras'.format(blancos+1))"
   ]
  },
  {
   "cell_type": "code",
   "execution_count": null,
   "metadata": {
    "id": "XGNu8qzj59KR"
   },
   "outputs": [],
   "source": [
    "texto = input( 'Ingrese texto: ')\n",
    "blancos = 0\n",
    "\n",
    "for i in range(len(texto)):\n",
    "  if texto[i] == ' ':\n",
    "    blancos += 1\n",
    "\n",
    "print('El texto tiene {} palabras'.format(blancos+1))"
   ]
  },
  {
   "cell_type": "markdown",
   "metadata": {
    "id": "4E1WhqfXA-S0"
   },
   "source": [
    "# Ejercicios\n",
    "\n",
    "1. Escriba un programa que lea una cadena y muestre el número de espacios en blanco que contiene.\n",
    "  - Resuelva el problema usando el método `count`\n",
    "  - Resuelva el problema usando recorrido de cadenas.\n",
    "1. Escriba un programa que detecte si una cadena tiene una o más letras mayúsculas. Imprima un mensaje adecuado.\n",
    "1. Escriba un programa que pida un texto y luego una palabra. El programa debe imprimir un mensaje indicando si la palabra está en el texto o no.\n",
    "1. Escriba un programa que pida un texto y que luego devuelva el mismo texto con todas las vocales reemplazadas por `x`. Asuma que todo el texto siempre estará en minúsculas.\n",
    "1. Escriba un programa que pida un número en binario (leído como una cadena) y notifique si la entrada es aceptable o si no lo es por tener caracteres diferentes de `'0'` y `'1'`.\n",
    "1. Escriba un programa que convierte un número en binario (leído como una cadena) a decimal.\n",
    "1. Escriba un programa que devuelva todos los dígitos numéricos que tenga una cadena. Ejemplo:\n",
    "  ```python\n",
    "  Ingrese texto: 3st4 c4d3n4 t13n3 v4r10s num3r0s\n",
    "  3443413341030\n",
    "  ```\n",
    "  Sugerencia:\n",
    "  - Averiguar qué es una tabla ASCII\n",
    "  - Indagar qué hacen las funciones `ord()` y `chr()`\n",
    "1. Escriba un programa que diga si una cadena tiene los 'paréntesis balanceados' o no. La cadena puede tener otros caracteres fuera de los paréntesis.\n",
    "  ```python\n",
    "  Ingrese texto: Este(es)un((buen(ejemplo)).)\n",
    "  Parentesis balanceados\n",
    "  ```\n",
    "  ```python\n",
    "  Ingrese texto: Este(es)un((mal(ejemplo)).\n",
    "  Parentesis no balanceados\n",
    "  ```\n",
    "  Sugerencia:\n",
    "  - Use una variable de control con las siguientes consideraciones:\n",
    "    - Inicializar la variable en cero.\n",
    "    - Cada vez se habra un paréntesis sume uno a la variable\n",
    "    - Cada vez que se cierre un paréntesis reste uno a la variable.\n",
    "  - Si los paréntesis están balanceados, ¿qué valor debería tener la variable al terminar el programa?\n"
   ]
  },
  {
   "cell_type": "markdown",
   "metadata": {
    "id": "04e2_0lDniWq"
   },
   "source": [
    "# Referencias\n",
    "\n",
    "Parte del contenido de este documento está basado en:\n",
    "\n",
    "- Andrés Marzal, Isabel Gracia, Pedro García. (2014).\n",
    "Introducción a la programación con Python 3, Primera\n",
    "Edición. Publicacions de la Universitat Jaume I. Servei de Comunicació i Publicacions.\n",
    "- Sotero Esteva, J. O. (2020). Introducción a las Computadoras. Manuscrito sin publicar. Universidad de Puerto Rico en Humacao, Puerto Rico."
   ]
  }
 ],
 "metadata": {
  "colab": {
   "authorship_tag": "ABX9TyM6WAUWoXdY5Vz11TyboM0V",
   "provenance": []
  },
  "kernelspec": {
   "display_name": "Python 3",
   "name": "python3"
  }
 },
 "nbformat": 4,
 "nbformat_minor": 0
}